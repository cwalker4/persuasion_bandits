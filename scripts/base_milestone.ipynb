{
 "cells": [
  {
   "cell_type": "markdown",
   "metadata": {},
   "source": [
    "# CS 234 Project Milestone\n",
    "\n",
    "Test sandbox for persuasion bandits."
   ]
  },
  {
   "cell_type": "code",
   "execution_count": 1,
   "metadata": {},
   "outputs": [],
   "source": [
    "import numpy as np\n",
    "from math import log\n",
    "\n",
    "from matplotlib import pyplot as plt"
   ]
  },
  {
   "cell_type": "code",
   "execution_count": 46,
   "metadata": {},
   "outputs": [],
   "source": [
    "def ucb(q_a, n_a, t):\n",
    "    \"\"\"\n",
    "    Function that chooses an action by upper confidence bound method\n",
    "    \n",
    "    INPUT:\n",
    "        q_a: q function estimates\n",
    "        n_a: action counts\n",
    "        t: timestep\n",
    "        \n",
    "    OUTPUT:\n",
    "        ix_0: action on the 0th axis (i.e. p(g | i))\n",
    "        ix_1: action on the 1st axis (i.e. p(g | g))\n",
    "    \"\"\"\n",
    "    c = 2  # hyperparameter; degree of exploration\n",
    "    f = q_a + c * np.sqrt(log(t) / (n_a + 1))\n",
    "    ix_0, ix_1 = np.unravel_index(np.argmax(f), f.shape)  # get max index in the array\n",
    "    return ix_0, ix_1\n",
    "    \n",
    "\n",
    "def persuasion_bandit():\n",
    "    \"\"\"\n",
    "    Function that runs persuasion bandits a la Kamenica 2018\n",
    "\n",
    "    \"\"\"\n",
    "    n_iters = int(2*1e5)\n",
    "    \n",
    "    # discrete action space for now. 7 actions\n",
    "    # to correspond to [GK13] optimum\n",
    "    n_actions = 8\n",
    "    \n",
    "    # set up prior so prior[0] = mu_0(innocent), etc.\n",
    "    prior = np.array([0.7, 0.3])\n",
    "    posterior = np.array([0, 0], dtype=float)\n",
    "    \n",
    "    # initialize empty q function and action counts. axis 0 denotes choices\n",
    "    # for p(g | innocent), axis 1 denotes choices for p(g | guilty).\n",
    "    q_a = np.zeros((n_actions, n_actions))\n",
    "    n_a = np.zeros((n_actions, n_actions))\n",
    "    \n",
    "    # define the reward function; 1 if the judge convicts, 0 otherwise\n",
    "    r_a = lambda p: 1 if p[1] >= p[0] else 0\n",
    "    \n",
    "    # keep track of rewards\n",
    "    reward_means = []\n",
    "    batch_rewards = []  # average over 50 samples\n",
    "    for t in range(1, n_iters):\n",
    "        if t % 500 == 0:\n",
    "            reward_means.append(np.mean(batch_rewards))\n",
    "            batch_rewards = []\n",
    "        \n",
    "        # actions: bandit agent chooses p(g | i) and p(g | g)\n",
    "        # these two probs completely characterize the distribution\n",
    "        # ix_0: index (= numerator) of p(g | i), (along the 0th axis)\n",
    "        # ix_1: index (= numerator) of p(g | g), (along the 1st axis)\n",
    "        ix_0, ix_1 = ucb(q_a, n_a, t)\n",
    "        \n",
    "        # get previous estimates for q(a), n(a)\n",
    "        q_old, n_old = q_a[ix_0, ix_1], n_a[ix_0, ix_1]\n",
    "        \n",
    "        # get signal realization probabilities\n",
    "        p_gi, p_gg = np.divide([ix_0, ix_1], n_actions - 1)\n",
    "        p_ii, p_ig = 1 - p_gi, 1 - p_gg\n",
    "        \n",
    "        # set up matrix so signal[0,0] gets you p(i | innocent), etc.\n",
    "        pi = np.array([[p_ii, p_ig],[p_gi, p_gg]])\n",
    "        \n",
    "        # sample state of the world; 1 = guilty, 0 = innocent\n",
    "        state = np.random.choice([0, 1], p=prior)\n",
    "        \n",
    "        # signal realization\n",
    "        if state == 1:\n",
    "            signal = np.random.choice([0, 1], p=[p_ig, p_gg])\n",
    "        elif state == 0:\n",
    "            signal = np.random.choice([0, 1], p=[p_ii, p_gi])\n",
    "        \n",
    "        # form posterior for each state\n",
    "        denom = (pi[signal, :] @ prior)\n",
    "        posterior[0] = (pi[signal, 0] * prior[0]) / denom\n",
    "        posterior[1] = (pi[signal, 1] * prior[1]) / denom\n",
    "        \n",
    "        # get the reward\n",
    "        batch_rewards.append(r_a(posterior))\n",
    "        n_a[ix_0, ix_1] += 1\n",
    "        q_a[ix_0, ix_1] += (r_a(posterior) - q_old) / n_a[ix_0, ix_1]\n",
    "        \n",
    "    return q_a, n_a, ucb(q_a, n_a, n_iters), reward_means\n",
    "    \n",
    "    "
   ]
  },
  {
   "cell_type": "code",
   "execution_count": 47,
   "metadata": {},
   "outputs": [],
   "source": [
    "q_a, n_a, ucb, rs = persuasion_bandit()"
   ]
  },
  {
   "cell_type": "code",
   "execution_count": 48,
   "metadata": {},
   "outputs": [
    {
     "data": {
      "image/png": "[encoded data removed]",
      "text/plain": [
       "<matplotlib.figure.Figure at 0x117426f28>"
      ]
     },
     "metadata": {},
     "output_type": "display_data"
    }
   ],
   "source": [
    "line = np.poly1d(np.polyfit(x=range(len(rs)), y=np.array(rs), deg=7))\n",
    "plt.plot(rs)\n",
    "plt.plot(line(range(len(rs))), 'r-')\n",
    "plt.xlabel('Batch Index')\n",
    "plt.ylabel('Average Reward')\n",
    "plt.show()"
   ]
  },
  {
   "cell_type": "code",
   "execution_count": 36,
   "metadata": {},
   "outputs": [
    {
     "data": {
      "text/plain": [
       "(3, 7)"
      ]
     },
     "execution_count": 36,
     "metadata": {},
     "output_type": "execute_result"
    }
   ],
   "source": [
    "np.unravel_index(np.argmax(q_a), q_a.shape)"
   ]
  },
  {
   "cell_type": "code",
   "execution_count": null,
   "metadata": {},
   "outputs": [],
   "source": []
  }
 ],
 "metadata": {
  "kernelspec": {
   "display_name": "Python 3",
   "language": "python",
   "name": "python3"
  },
  "language_info": {
   "codemirror_mode": {
    "name": "ipython",
    "version": 3
   },
   "file_extension": ".py",
   "mimetype": "text/x-python",
   "name": "python",
   "nbconvert_exporter": "python",
   "pygments_lexer": "ipython3",
   "version": "3.6.4"
  }
 },
 "nbformat": 4,
 "nbformat_minor": 2
}
